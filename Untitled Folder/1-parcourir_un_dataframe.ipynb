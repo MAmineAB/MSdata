{
 "cells": [
  {
   "cell_type": "markdown",
   "metadata": {},
   "source": [
    "# Introduction"
   ]
  },
  {
   "cell_type": "markdown",
   "metadata": {},
   "source": [
    "On va étudier un jeu de données contenant différentes infos autour des retards d'avion aux Etats-Unis en mai 2006. On utilise principalement pandas qui est un module Python dédié à la manipulation de données de grandes dimensions : https://pandas.pydata.org/pandas-docs/stable/ (la doc est votre amie !)"
   ]
  },
  {
   "cell_type": "markdown",
   "metadata": {},
   "source": [
    "# Import du module"
   ]
  },
  {
   "cell_type": "code",
   "execution_count": 1,
   "metadata": {},
   "outputs": [],
   "source": [
    "import pandas as pd"
   ]
  },
  {
   "cell_type": "markdown",
   "metadata": {},
   "source": [
    "# Lecture des données\n",
    "La méthode read_csv permet d'importer les données depuis un fichier csv. L'option index_col=0 indique que la première colonne du fichier sera l'index de notre DataFrame, et non une colonne comme les autres. Le DataFrame est la structure de données principale du module pandas : https://pandas.pydata.org/pandas-docs/stable/generated/pandas.DataFrame.html"
   ]
  },
  {
   "cell_type": "code",
   "execution_count": 2,
   "metadata": {},
   "outputs": [],
   "source": [
    "df = pd.read_csv(\"datas.csv\", index_col=0)"
   ]
  },
  {
   "cell_type": "markdown",
   "metadata": {},
   "source": [
    "# Aperçu du tableau\n",
    "Les méthodes head et tail permettent respectivement de visualiser les n premières et dernières lignes d'un DataFrame. Par défaut, n vaut 5 mais on peut choisir le nombre de lignes que l'on veut afficher"
   ]
  },
  {
   "cell_type": "code",
   "execution_count": null,
   "metadata": {},
   "outputs": [],
   "source": [
    "df.head(10)"
   ]
  },
  {
   "cell_type": "code",
   "execution_count": null,
   "metadata": {},
   "outputs": [],
   "source": [
    "df.tail(10)"
   ]
  },
  {
   "cell_type": "markdown",
   "metadata": {},
   "source": [
    "# Liste des colonnes\n",
    "l'attribut columns permet de récupérer la liste des colonnes d'un DataFrame "
   ]
  },
  {
   "cell_type": "code",
   "execution_count": null,
   "metadata": {},
   "outputs": [],
   "source": [
    "df.columns"
   ]
  },
  {
   "cell_type": "markdown",
   "metadata": {},
   "source": [
    "# Dimensions du tableau\n",
    "l'attribut shape permet de récupérer les dimensions du tableau. La première valeur est lenombre de lignes, la seonde le nombre de colonnes (c'est un tuple, cf cours précédent)"
   ]
  },
  {
   "cell_type": "code",
   "execution_count": null,
   "metadata": {},
   "outputs": [],
   "source": [
    "df.shape"
   ]
  },
  {
   "cell_type": "markdown",
   "metadata": {},
   "source": [
    "# Type des données\n",
    "l'attribut dtypes permet de récupérer les dtypes de chaque colonne"
   ]
  },
  {
   "cell_type": "code",
   "execution_count": null,
   "metadata": {},
   "outputs": [],
   "source": [
    "df.dtypes"
   ]
  },
  {
   "cell_type": "markdown",
   "metadata": {},
   "source": [
    "# Premier exercice (ne vous inquiétez pas il est facile !)\n",
    "Cherchez dans la doc et utilisez l'attribut qui permet d'accéder à l'index du DataFrame"
   ]
  },
  {
   "cell_type": "code",
   "execution_count": null,
   "metadata": {},
   "outputs": [],
   "source": [
    "df.index"
   ]
  },
  {
   "cell_type": "markdown",
   "metadata": {},
   "source": [
    "# Décompte des valeurs présentes\n",
    "la méthode count permet de compter le nombre de valeurs non-nan pour chaque colonne"
   ]
  },
  {
   "cell_type": "code",
   "execution_count": 24,
   "metadata": {},
   "outputs": [
    {
     "data": {
      "text/plain": [
       "Year                 301460\n",
       "Month                301460\n",
       "DayofMonth           301460\n",
       "DayOfWeek            301460\n",
       "DepTime              297914\n",
       "CRSDepTime           301460\n",
       "ArrTime              297324\n",
       "CRSArrTime           301460\n",
       "UniqueCarrier        301460\n",
       "FlightNum            301460\n",
       "TailNum              301460\n",
       "ActualElapsedTime    297324\n",
       "CRSElapsedTime       301460\n",
       "AirTime              297324\n",
       "ArrDelay             297324\n",
       "DepDelay             297914\n",
       "Origin               301460\n",
       "Dest                 301460\n",
       "Distance             301460\n",
       "TaxiIn               301460\n",
       "TaxiOut              301460\n",
       "Cancelled            301460\n",
       "CancellationCode       3546\n",
       "Diverted             301460\n",
       "CarrierDelay         301460\n",
       "WeatherDelay         301460\n",
       "NASDelay             301460\n",
       "SecurityDelay        301460\n",
       "LateAircraftDelay    301460\n",
       "dtype: int64"
      ]
     },
     "execution_count": 24,
     "metadata": {},
     "output_type": "execute_result"
    }
   ],
   "source": [
    "df.count()"
   ]
  },
  {
   "cell_type": "markdown",
   "metadata": {},
   "source": [
    "# Première infos statistiques\n",
    "la méthode describe donne de premières infos de statistiques descriptives par colonne"
   ]
  },
  {
   "cell_type": "code",
   "execution_count": 25,
   "metadata": {},
   "outputs": [
    {
     "data": {
      "text/html": [
       "<div>\n",
       "<style scoped>\n",
       "    .dataframe tbody tr th:only-of-type {\n",
       "        vertical-align: middle;\n",
       "    }\n",
       "\n",
       "    .dataframe tbody tr th {\n",
       "        vertical-align: top;\n",
       "    }\n",
       "\n",
       "    .dataframe thead th {\n",
       "        text-align: right;\n",
       "    }\n",
       "</style>\n",
       "<table border=\"1\" class=\"dataframe\">\n",
       "  <thead>\n",
       "    <tr style=\"text-align: right;\">\n",
       "      <th></th>\n",
       "      <th>Year</th>\n",
       "      <th>Month</th>\n",
       "      <th>DayofMonth</th>\n",
       "      <th>DayOfWeek</th>\n",
       "      <th>DepTime</th>\n",
       "      <th>CRSDepTime</th>\n",
       "      <th>ArrTime</th>\n",
       "      <th>CRSArrTime</th>\n",
       "      <th>FlightNum</th>\n",
       "      <th>ActualElapsedTime</th>\n",
       "      <th>...</th>\n",
       "      <th>Distance</th>\n",
       "      <th>TaxiIn</th>\n",
       "      <th>TaxiOut</th>\n",
       "      <th>Cancelled</th>\n",
       "      <th>Diverted</th>\n",
       "      <th>CarrierDelay</th>\n",
       "      <th>WeatherDelay</th>\n",
       "      <th>NASDelay</th>\n",
       "      <th>SecurityDelay</th>\n",
       "      <th>LateAircraftDelay</th>\n",
       "    </tr>\n",
       "  </thead>\n",
       "  <tbody>\n",
       "    <tr>\n",
       "      <th>count</th>\n",
       "      <td>301460.0</td>\n",
       "      <td>301460.0</td>\n",
       "      <td>301460.000000</td>\n",
       "      <td>301460.000000</td>\n",
       "      <td>297914.000000</td>\n",
       "      <td>301460.000000</td>\n",
       "      <td>297324.000000</td>\n",
       "      <td>301460.000000</td>\n",
       "      <td>301460.000000</td>\n",
       "      <td>297324.000000</td>\n",
       "      <td>...</td>\n",
       "      <td>301460.000000</td>\n",
       "      <td>301460.000000</td>\n",
       "      <td>301460.000000</td>\n",
       "      <td>301460.000000</td>\n",
       "      <td>301460.000000</td>\n",
       "      <td>301460.000000</td>\n",
       "      <td>301460.000000</td>\n",
       "      <td>301460.000000</td>\n",
       "      <td>301460.000000</td>\n",
       "      <td>301460.000000</td>\n",
       "    </tr>\n",
       "    <tr>\n",
       "      <th>mean</th>\n",
       "      <td>2006.0</td>\n",
       "      <td>5.0</td>\n",
       "      <td>15.928073</td>\n",
       "      <td>3.743601</td>\n",
       "      <td>1338.087599</td>\n",
       "      <td>1330.788725</td>\n",
       "      <td>1486.539930</td>\n",
       "      <td>1494.931002</td>\n",
       "      <td>2207.965889</td>\n",
       "      <td>125.134967</td>\n",
       "      <td>...</td>\n",
       "      <td>730.104979</td>\n",
       "      <td>6.797406</td>\n",
       "      <td>15.426965</td>\n",
       "      <td>0.011763</td>\n",
       "      <td>0.001957</td>\n",
       "      <td>2.879888</td>\n",
       "      <td>0.541531</td>\n",
       "      <td>3.194497</td>\n",
       "      <td>0.014264</td>\n",
       "      <td>4.011441</td>\n",
       "    </tr>\n",
       "    <tr>\n",
       "      <th>std</th>\n",
       "      <td>0.0</td>\n",
       "      <td>0.0</td>\n",
       "      <td>8.946855</td>\n",
       "      <td>1.985304</td>\n",
       "      <td>473.382507</td>\n",
       "      <td>460.417894</td>\n",
       "      <td>496.297795</td>\n",
       "      <td>476.034379</td>\n",
       "      <td>2025.136577</td>\n",
       "      <td>71.050381</td>\n",
       "      <td>...</td>\n",
       "      <td>577.823534</td>\n",
       "      <td>29.621836</td>\n",
       "      <td>10.887856</td>\n",
       "      <td>0.107817</td>\n",
       "      <td>0.044196</td>\n",
       "      <td>17.168730</td>\n",
       "      <td>7.330082</td>\n",
       "      <td>14.445620</td>\n",
       "      <td>0.799616</td>\n",
       "      <td>18.106906</td>\n",
       "    </tr>\n",
       "    <tr>\n",
       "      <th>min</th>\n",
       "      <td>2006.0</td>\n",
       "      <td>5.0</td>\n",
       "      <td>1.000000</td>\n",
       "      <td>1.000000</td>\n",
       "      <td>1.000000</td>\n",
       "      <td>10.000000</td>\n",
       "      <td>1.000000</td>\n",
       "      <td>1.000000</td>\n",
       "      <td>1.000000</td>\n",
       "      <td>16.000000</td>\n",
       "      <td>...</td>\n",
       "      <td>24.000000</td>\n",
       "      <td>0.000000</td>\n",
       "      <td>0.000000</td>\n",
       "      <td>0.000000</td>\n",
       "      <td>0.000000</td>\n",
       "      <td>0.000000</td>\n",
       "      <td>0.000000</td>\n",
       "      <td>0.000000</td>\n",
       "      <td>0.000000</td>\n",
       "      <td>0.000000</td>\n",
       "    </tr>\n",
       "    <tr>\n",
       "      <th>25%</th>\n",
       "      <td>2006.0</td>\n",
       "      <td>5.0</td>\n",
       "      <td>8.000000</td>\n",
       "      <td>2.000000</td>\n",
       "      <td>930.000000</td>\n",
       "      <td>930.000000</td>\n",
       "      <td>1109.000000</td>\n",
       "      <td>1115.000000</td>\n",
       "      <td>576.000000</td>\n",
       "      <td>74.000000</td>\n",
       "      <td>...</td>\n",
       "      <td>316.000000</td>\n",
       "      <td>4.000000</td>\n",
       "      <td>10.000000</td>\n",
       "      <td>0.000000</td>\n",
       "      <td>0.000000</td>\n",
       "      <td>0.000000</td>\n",
       "      <td>0.000000</td>\n",
       "      <td>0.000000</td>\n",
       "      <td>0.000000</td>\n",
       "      <td>0.000000</td>\n",
       "    </tr>\n",
       "    <tr>\n",
       "      <th>50%</th>\n",
       "      <td>2006.0</td>\n",
       "      <td>5.0</td>\n",
       "      <td>16.000000</td>\n",
       "      <td>4.000000</td>\n",
       "      <td>1327.000000</td>\n",
       "      <td>1323.000000</td>\n",
       "      <td>1516.000000</td>\n",
       "      <td>1520.000000</td>\n",
       "      <td>1476.000000</td>\n",
       "      <td>106.000000</td>\n",
       "      <td>...</td>\n",
       "      <td>576.000000</td>\n",
       "      <td>5.000000</td>\n",
       "      <td>13.000000</td>\n",
       "      <td>0.000000</td>\n",
       "      <td>0.000000</td>\n",
       "      <td>0.000000</td>\n",
       "      <td>0.000000</td>\n",
       "      <td>0.000000</td>\n",
       "      <td>0.000000</td>\n",
       "      <td>0.000000</td>\n",
       "    </tr>\n",
       "    <tr>\n",
       "      <th>75%</th>\n",
       "      <td>2006.0</td>\n",
       "      <td>5.0</td>\n",
       "      <td>24.000000</td>\n",
       "      <td>5.000000</td>\n",
       "      <td>1730.000000</td>\n",
       "      <td>1720.000000</td>\n",
       "      <td>1909.000000</td>\n",
       "      <td>1905.000000</td>\n",
       "      <td>3640.000000</td>\n",
       "      <td>155.000000</td>\n",
       "      <td>...</td>\n",
       "      <td>957.000000</td>\n",
       "      <td>7.000000</td>\n",
       "      <td>18.000000</td>\n",
       "      <td>0.000000</td>\n",
       "      <td>0.000000</td>\n",
       "      <td>0.000000</td>\n",
       "      <td>0.000000</td>\n",
       "      <td>0.000000</td>\n",
       "      <td>0.000000</td>\n",
       "      <td>0.000000</td>\n",
       "    </tr>\n",
       "    <tr>\n",
       "      <th>max</th>\n",
       "      <td>2006.0</td>\n",
       "      <td>5.0</td>\n",
       "      <td>31.000000</td>\n",
       "      <td>7.000000</td>\n",
       "      <td>2431.000000</td>\n",
       "      <td>2359.000000</td>\n",
       "      <td>2550.000000</td>\n",
       "      <td>2359.000000</td>\n",
       "      <td>9501.000000</td>\n",
       "      <td>1511.000000</td>\n",
       "      <td>...</td>\n",
       "      <td>4962.000000</td>\n",
       "      <td>1467.000000</td>\n",
       "      <td>292.000000</td>\n",
       "      <td>1.000000</td>\n",
       "      <td>1.000000</td>\n",
       "      <td>1064.000000</td>\n",
       "      <td>646.000000</td>\n",
       "      <td>495.000000</td>\n",
       "      <td>179.000000</td>\n",
       "      <td>515.000000</td>\n",
       "    </tr>\n",
       "  </tbody>\n",
       "</table>\n",
       "<p>8 rows × 24 columns</p>\n",
       "</div>"
      ],
      "text/plain": [
       "           Year     Month     DayofMonth      DayOfWeek        DepTime  \\\n",
       "count  301460.0  301460.0  301460.000000  301460.000000  297914.000000   \n",
       "mean     2006.0       5.0      15.928073       3.743601    1338.087599   \n",
       "std         0.0       0.0       8.946855       1.985304     473.382507   \n",
       "min      2006.0       5.0       1.000000       1.000000       1.000000   \n",
       "25%      2006.0       5.0       8.000000       2.000000     930.000000   \n",
       "50%      2006.0       5.0      16.000000       4.000000    1327.000000   \n",
       "75%      2006.0       5.0      24.000000       5.000000    1730.000000   \n",
       "max      2006.0       5.0      31.000000       7.000000    2431.000000   \n",
       "\n",
       "          CRSDepTime        ArrTime     CRSArrTime      FlightNum  \\\n",
       "count  301460.000000  297324.000000  301460.000000  301460.000000   \n",
       "mean     1330.788725    1486.539930    1494.931002    2207.965889   \n",
       "std       460.417894     496.297795     476.034379    2025.136577   \n",
       "min        10.000000       1.000000       1.000000       1.000000   \n",
       "25%       930.000000    1109.000000    1115.000000     576.000000   \n",
       "50%      1323.000000    1516.000000    1520.000000    1476.000000   \n",
       "75%      1720.000000    1909.000000    1905.000000    3640.000000   \n",
       "max      2359.000000    2550.000000    2359.000000    9501.000000   \n",
       "\n",
       "       ActualElapsedTime        ...               Distance         TaxiIn  \\\n",
       "count      297324.000000        ...          301460.000000  301460.000000   \n",
       "mean          125.134967        ...             730.104979       6.797406   \n",
       "std            71.050381        ...             577.823534      29.621836   \n",
       "min            16.000000        ...              24.000000       0.000000   \n",
       "25%            74.000000        ...             316.000000       4.000000   \n",
       "50%           106.000000        ...             576.000000       5.000000   \n",
       "75%           155.000000        ...             957.000000       7.000000   \n",
       "max          1511.000000        ...            4962.000000    1467.000000   \n",
       "\n",
       "             TaxiOut      Cancelled       Diverted   CarrierDelay  \\\n",
       "count  301460.000000  301460.000000  301460.000000  301460.000000   \n",
       "mean       15.426965       0.011763       0.001957       2.879888   \n",
       "std        10.887856       0.107817       0.044196      17.168730   \n",
       "min         0.000000       0.000000       0.000000       0.000000   \n",
       "25%        10.000000       0.000000       0.000000       0.000000   \n",
       "50%        13.000000       0.000000       0.000000       0.000000   \n",
       "75%        18.000000       0.000000       0.000000       0.000000   \n",
       "max       292.000000       1.000000       1.000000    1064.000000   \n",
       "\n",
       "        WeatherDelay       NASDelay  SecurityDelay  LateAircraftDelay  \n",
       "count  301460.000000  301460.000000  301460.000000      301460.000000  \n",
       "mean        0.541531       3.194497       0.014264           4.011441  \n",
       "std         7.330082      14.445620       0.799616          18.106906  \n",
       "min         0.000000       0.000000       0.000000           0.000000  \n",
       "25%         0.000000       0.000000       0.000000           0.000000  \n",
       "50%         0.000000       0.000000       0.000000           0.000000  \n",
       "75%         0.000000       0.000000       0.000000           0.000000  \n",
       "max       646.000000     495.000000     179.000000         515.000000  \n",
       "\n",
       "[8 rows x 24 columns]"
      ]
     },
     "execution_count": 25,
     "metadata": {},
     "output_type": "execute_result"
    }
   ],
   "source": [
    "df.describe()"
   ]
  },
  {
   "cell_type": "markdown",
   "metadata": {},
   "source": [
    "# Exercice !\n",
    "Cherchez dans la doc et utilisez les méthodes qui respectivement : renvoie la mémoire utilisée par le DataFrame, supprime les colonnes Year et Month, et trie le DataFrame par FlightNum"
   ]
  },
  {
   "cell_type": "code",
   "execution_count": null,
   "metadata": {},
   "outputs": [],
   "source": [
    "df.memory_usage()"
   ]
  },
  {
   "cell_type": "code",
   "execution_count": null,
   "metadata": {
    "scrolled": true
   },
   "outputs": [],
   "source": [
    "df.drop(['Month','Year'],axis=1,inplace=True)"
   ]
  },
  {
   "cell_type": "code",
   "execution_count": null,
   "metadata": {},
   "outputs": [],
   "source": [
    "df.head()"
   ]
  },
  {
   "cell_type": "code",
   "execution_count": null,
   "metadata": {},
   "outputs": [],
   "source": [
    "df.sort_values(by='FlightNum').head()\n",
    "# On peut trier sur +sieur colonne avec by=['cln1','coln2']"
   ]
  },
  {
   "cell_type": "markdown",
   "metadata": {},
   "source": [
    "# Accéder à une colonne\n",
    "On cherche ici à accéder aux données de la colonne UniqueCarrier en particulier. On crée donc la variable extrait qui va contenir ses informations. La variable extrait sera soit une Series soit un DataFrame selon la méthode utilisée. La Series est une structure de données à une dimension, différente du DataFrame : http://pandas.pydata.org/pandas-docs/stable/generated/pandas.Series.html même si beaucoups d'attributs et de méthodes sont identiques"
   ]
  },
  {
   "cell_type": "markdown",
   "metadata": {},
   "source": [
    "### par son nom"
   ]
  },
  {
   "cell_type": "markdown",
   "metadata": {},
   "source": [
    "##### méthode 1"
   ]
  },
  {
   "cell_type": "code",
   "execution_count": null,
   "metadata": {
    "scrolled": true
   },
   "outputs": [],
   "source": [
    "extrait = df.loc[:, 'UniqueCarrier']\n",
    "print(extrait.head())\n",
    "print('')\n",
    "print(type(extrait))"
   ]
  },
  {
   "cell_type": "markdown",
   "metadata": {},
   "source": [
    "##### méthode 2"
   ]
  },
  {
   "cell_type": "code",
   "execution_count": null,
   "metadata": {
    "scrolled": true
   },
   "outputs": [],
   "source": [
    "extrait = df.UniqueCarrier\n",
    "print(extrait.head())\n",
    "print('')\n",
    "print(type(extrait))"
   ]
  },
  {
   "cell_type": "markdown",
   "metadata": {},
   "source": [
    "##### méthode 3"
   ]
  },
  {
   "cell_type": "code",
   "execution_count": null,
   "metadata": {
    "scrolled": true
   },
   "outputs": [],
   "source": [
    "extrait = df.loc[:, ['UniqueCarrier']]\n",
    "print(extrait.head())\n",
    "print('')\n",
    "print(type(extrait))"
   ]
  },
  {
   "cell_type": "markdown",
   "metadata": {},
   "source": [
    "##### méthode 4"
   ]
  },
  {
   "cell_type": "code",
   "execution_count": null,
   "metadata": {
    "scrolled": true
   },
   "outputs": [],
   "source": [
    "extrait = df[['UniqueCarrier']]\n",
    "print(extrait.head())\n",
    "print('')\n",
    "print(type(extrait))"
   ]
  },
  {
   "cell_type": "markdown",
   "metadata": {},
   "source": [
    "### par sa position dans la liste des colonnes"
   ]
  },
  {
   "cell_type": "markdown",
   "metadata": {},
   "source": [
    "##### méthode 1"
   ]
  },
  {
   "cell_type": "code",
   "execution_count": null,
   "metadata": {},
   "outputs": [],
   "source": [
    "extrait = df.iloc[:, 6]\n",
    "print(extrait.head())\n",
    "print('')\n",
    "print(type(extrait))"
   ]
  },
  {
   "cell_type": "markdown",
   "metadata": {},
   "source": [
    "##### méthode 2"
   ]
  },
  {
   "cell_type": "code",
   "execution_count": null,
   "metadata": {},
   "outputs": [],
   "source": [
    "extrait = df.iloc[:, [6]]\n",
    "print(extrait.head())\n",
    "print('')\n",
    "print(type(extrait))"
   ]
  },
  {
   "cell_type": "markdown",
   "metadata": {},
   "source": [
    "# Accéder à un ensemble de colonnes\n",
    "On peut également accéder à un ensemble de colonnes parmi celles du DataFrame d'origine"
   ]
  },
  {
   "cell_type": "markdown",
   "metadata": {},
   "source": [
    "### Exercice : créer un DataFrame contenant les informations UniqueCarrier, DepTime et ArrTime"
   ]
  },
  {
   "cell_type": "code",
   "execution_count": null,
   "metadata": {},
   "outputs": [],
   "source": [
    "extrait1 = df[['UniqueCarrier','DepTime','ArrTime']]\n",
    "print(extrait1.head())\n",
    "print('')\n",
    "print(type(extrait1))\n",
    "# on peut utiliser =df.loc "
   ]
  },
  {
   "cell_type": "markdown",
   "metadata": {},
   "source": [
    "### Exercice : créer un autre DataFrame contenant les informations CRSDepTime et CRSArrTime"
   ]
  },
  {
   "cell_type": "code",
   "execution_count": null,
   "metadata": {},
   "outputs": [],
   "source": [
    "extrait2 = df[['CRSDepTime','CRSArrTime']]\n",
    "print(extrait1.head())\n",
    "print('')\n",
    "print(type(extrait1))"
   ]
  },
  {
   "cell_type": "markdown",
   "metadata": {},
   "source": [
    "### Exercice : trouver comment recoller vos 2 DataFrames en un seul DataFrame (3 méthodes possibles)"
   ]
  },
  {
   "cell_type": "code",
   "execution_count": null,
   "metadata": {},
   "outputs": [],
   "source": [
    "merge1=pd.concat([extrait2,extrait1], axis=1)\n",
    "merge1.head()"
   ]
  },
  {
   "cell_type": "code",
   "execution_count": null,
   "metadata": {},
   "outputs": [],
   "source": [
    "merge2=extrait1.join(extrait2)"
   ]
  },
  {
   "cell_type": "code",
   "execution_count": null,
   "metadata": {},
   "outputs": [],
   "source": [
    "merge3=pd.merge(extrait1,extrait2,how='inner',left_index=True, right_index=True)\n",
    "merge3.head()"
   ]
  },
  {
   "cell_type": "markdown",
   "metadata": {},
   "source": [
    "# Accéder à une ligne\n",
    "De la même manière que l'on peut accéder à une colonne ou à une liste de colonnes, on peut également accéder aux lignes que l'on souhaite"
   ]
  },
  {
   "cell_type": "markdown",
   "metadata": {},
   "source": [
    "### par son nom"
   ]
  },
  {
   "cell_type": "code",
   "execution_count": 3,
   "metadata": {},
   "outputs": [
    {
     "data": {
      "text/plain": [
       "Year                   2006\n",
       "Month                     5\n",
       "DayofMonth                8\n",
       "DayOfWeek                 1\n",
       "DepTime                 705\n",
       "CRSDepTime              700\n",
       "ArrTime                 917\n",
       "CRSArrTime              915\n",
       "UniqueCarrier            US\n",
       "FlightNum               560\n",
       "TailNum              N405US\n",
       "ActualElapsedTime       132\n",
       "CRSElapsedTime          135\n",
       "AirTime                 117\n",
       "ArrDelay                  2\n",
       "DepDelay                  5\n",
       "Origin                  PBI\n",
       "Dest                    DCA\n",
       "Distance                857\n",
       "TaxiIn                    6\n",
       "TaxiOut                   9\n",
       "Cancelled                 0\n",
       "CancellationCode        NaN\n",
       "Diverted                  0\n",
       "CarrierDelay              0\n",
       "WeatherDelay              0\n",
       "NASDelay                  0\n",
       "SecurityDelay             0\n",
       "LateAircraftDelay         0\n",
       "Name: Vol_0, dtype: object"
      ]
     },
     "execution_count": 3,
     "metadata": {},
     "output_type": "execute_result"
    }
   ],
   "source": [
    "df.loc['Vol_0']"
   ]
  },
  {
   "cell_type": "markdown",
   "metadata": {},
   "source": [
    "### par sa position dans la liste"
   ]
  },
  {
   "cell_type": "code",
   "execution_count": 4,
   "metadata": {},
   "outputs": [
    {
     "data": {
      "text/plain": [
       "Year                   2006\n",
       "Month                     5\n",
       "DayofMonth                8\n",
       "DayOfWeek                 1\n",
       "DepTime                 705\n",
       "CRSDepTime              700\n",
       "ArrTime                 917\n",
       "CRSArrTime              915\n",
       "UniqueCarrier            US\n",
       "FlightNum               560\n",
       "TailNum              N405US\n",
       "ActualElapsedTime       132\n",
       "CRSElapsedTime          135\n",
       "AirTime                 117\n",
       "ArrDelay                  2\n",
       "DepDelay                  5\n",
       "Origin                  PBI\n",
       "Dest                    DCA\n",
       "Distance                857\n",
       "TaxiIn                    6\n",
       "TaxiOut                   9\n",
       "Cancelled                 0\n",
       "CancellationCode        NaN\n",
       "Diverted                  0\n",
       "CarrierDelay              0\n",
       "WeatherDelay              0\n",
       "NASDelay                  0\n",
       "SecurityDelay             0\n",
       "LateAircraftDelay         0\n",
       "Name: Vol_0, dtype: object"
      ]
     },
     "execution_count": 4,
     "metadata": {},
     "output_type": "execute_result"
    }
   ],
   "source": [
    "df.iloc[0]"
   ]
  },
  {
   "cell_type": "markdown",
   "metadata": {},
   "source": [
    "# Accéder à un ensemble de lignes"
   ]
  },
  {
   "cell_type": "markdown",
   "metadata": {},
   "source": [
    "### par leurs noms"
   ]
  },
  {
   "cell_type": "code",
   "execution_count": 5,
   "metadata": {},
   "outputs": [
    {
     "data": {
      "text/html": [
       "<div>\n",
       "<style scoped>\n",
       "    .dataframe tbody tr th:only-of-type {\n",
       "        vertical-align: middle;\n",
       "    }\n",
       "\n",
       "    .dataframe tbody tr th {\n",
       "        vertical-align: top;\n",
       "    }\n",
       "\n",
       "    .dataframe thead th {\n",
       "        text-align: right;\n",
       "    }\n",
       "</style>\n",
       "<table border=\"1\" class=\"dataframe\">\n",
       "  <thead>\n",
       "    <tr style=\"text-align: right;\">\n",
       "      <th></th>\n",
       "      <th>Year</th>\n",
       "      <th>Month</th>\n",
       "      <th>DayofMonth</th>\n",
       "      <th>DayOfWeek</th>\n",
       "      <th>DepTime</th>\n",
       "      <th>CRSDepTime</th>\n",
       "      <th>ArrTime</th>\n",
       "      <th>CRSArrTime</th>\n",
       "      <th>UniqueCarrier</th>\n",
       "      <th>FlightNum</th>\n",
       "      <th>...</th>\n",
       "      <th>TaxiIn</th>\n",
       "      <th>TaxiOut</th>\n",
       "      <th>Cancelled</th>\n",
       "      <th>CancellationCode</th>\n",
       "      <th>Diverted</th>\n",
       "      <th>CarrierDelay</th>\n",
       "      <th>WeatherDelay</th>\n",
       "      <th>NASDelay</th>\n",
       "      <th>SecurityDelay</th>\n",
       "      <th>LateAircraftDelay</th>\n",
       "    </tr>\n",
       "  </thead>\n",
       "  <tbody>\n",
       "    <tr>\n",
       "      <th>Vol_0</th>\n",
       "      <td>2006</td>\n",
       "      <td>5</td>\n",
       "      <td>8</td>\n",
       "      <td>1</td>\n",
       "      <td>705.0</td>\n",
       "      <td>700</td>\n",
       "      <td>917.0</td>\n",
       "      <td>915</td>\n",
       "      <td>US</td>\n",
       "      <td>560</td>\n",
       "      <td>...</td>\n",
       "      <td>6</td>\n",
       "      <td>9</td>\n",
       "      <td>0</td>\n",
       "      <td>NaN</td>\n",
       "      <td>0</td>\n",
       "      <td>0</td>\n",
       "      <td>0</td>\n",
       "      <td>0</td>\n",
       "      <td>0</td>\n",
       "      <td>0</td>\n",
       "    </tr>\n",
       "    <tr>\n",
       "      <th>Vol_1</th>\n",
       "      <td>2006</td>\n",
       "      <td>5</td>\n",
       "      <td>10</td>\n",
       "      <td>3</td>\n",
       "      <td>705.0</td>\n",
       "      <td>700</td>\n",
       "      <td>920.0</td>\n",
       "      <td>915</td>\n",
       "      <td>US</td>\n",
       "      <td>560</td>\n",
       "      <td>...</td>\n",
       "      <td>5</td>\n",
       "      <td>10</td>\n",
       "      <td>0</td>\n",
       "      <td>NaN</td>\n",
       "      <td>0</td>\n",
       "      <td>0</td>\n",
       "      <td>0</td>\n",
       "      <td>0</td>\n",
       "      <td>0</td>\n",
       "      <td>0</td>\n",
       "    </tr>\n",
       "    <tr>\n",
       "      <th>Vol_2</th>\n",
       "      <td>2006</td>\n",
       "      <td>5</td>\n",
       "      <td>12</td>\n",
       "      <td>5</td>\n",
       "      <td>700.0</td>\n",
       "      <td>700</td>\n",
       "      <td>922.0</td>\n",
       "      <td>915</td>\n",
       "      <td>US</td>\n",
       "      <td>560</td>\n",
       "      <td>...</td>\n",
       "      <td>8</td>\n",
       "      <td>11</td>\n",
       "      <td>0</td>\n",
       "      <td>NaN</td>\n",
       "      <td>0</td>\n",
       "      <td>0</td>\n",
       "      <td>0</td>\n",
       "      <td>0</td>\n",
       "      <td>0</td>\n",
       "      <td>0</td>\n",
       "    </tr>\n",
       "  </tbody>\n",
       "</table>\n",
       "<p>3 rows × 29 columns</p>\n",
       "</div>"
      ],
      "text/plain": [
       "       Year  Month  DayofMonth  DayOfWeek  DepTime  CRSDepTime  ArrTime  \\\n",
       "Vol_0  2006      5           8          1    705.0         700    917.0   \n",
       "Vol_1  2006      5          10          3    705.0         700    920.0   \n",
       "Vol_2  2006      5          12          5    700.0         700    922.0   \n",
       "\n",
       "       CRSArrTime UniqueCarrier  FlightNum        ...         TaxiIn  TaxiOut  \\\n",
       "Vol_0         915            US        560        ...              6        9   \n",
       "Vol_1         915            US        560        ...              5       10   \n",
       "Vol_2         915            US        560        ...              8       11   \n",
       "\n",
       "       Cancelled  CancellationCode  Diverted  CarrierDelay WeatherDelay  \\\n",
       "Vol_0          0               NaN         0             0            0   \n",
       "Vol_1          0               NaN         0             0            0   \n",
       "Vol_2          0               NaN         0             0            0   \n",
       "\n",
       "      NASDelay  SecurityDelay  LateAircraftDelay  \n",
       "Vol_0        0              0                  0  \n",
       "Vol_1        0              0                  0  \n",
       "Vol_2        0              0                  0  \n",
       "\n",
       "[3 rows x 29 columns]"
      ]
     },
     "execution_count": 5,
     "metadata": {},
     "output_type": "execute_result"
    }
   ],
   "source": [
    "df.loc[['Vol_0', 'Vol_1', 'Vol_2']]"
   ]
  },
  {
   "cell_type": "markdown",
   "metadata": {},
   "source": [
    "### par leurs positions"
   ]
  },
  {
   "cell_type": "code",
   "execution_count": 6,
   "metadata": {},
   "outputs": [
    {
     "data": {
      "text/html": [
       "<div>\n",
       "<style scoped>\n",
       "    .dataframe tbody tr th:only-of-type {\n",
       "        vertical-align: middle;\n",
       "    }\n",
       "\n",
       "    .dataframe tbody tr th {\n",
       "        vertical-align: top;\n",
       "    }\n",
       "\n",
       "    .dataframe thead th {\n",
       "        text-align: right;\n",
       "    }\n",
       "</style>\n",
       "<table border=\"1\" class=\"dataframe\">\n",
       "  <thead>\n",
       "    <tr style=\"text-align: right;\">\n",
       "      <th></th>\n",
       "      <th>Year</th>\n",
       "      <th>Month</th>\n",
       "      <th>DayofMonth</th>\n",
       "      <th>DayOfWeek</th>\n",
       "      <th>DepTime</th>\n",
       "      <th>CRSDepTime</th>\n",
       "      <th>ArrTime</th>\n",
       "      <th>CRSArrTime</th>\n",
       "      <th>UniqueCarrier</th>\n",
       "      <th>FlightNum</th>\n",
       "      <th>...</th>\n",
       "      <th>TaxiIn</th>\n",
       "      <th>TaxiOut</th>\n",
       "      <th>Cancelled</th>\n",
       "      <th>CancellationCode</th>\n",
       "      <th>Diverted</th>\n",
       "      <th>CarrierDelay</th>\n",
       "      <th>WeatherDelay</th>\n",
       "      <th>NASDelay</th>\n",
       "      <th>SecurityDelay</th>\n",
       "      <th>LateAircraftDelay</th>\n",
       "    </tr>\n",
       "  </thead>\n",
       "  <tbody>\n",
       "    <tr>\n",
       "      <th>Vol_0</th>\n",
       "      <td>2006</td>\n",
       "      <td>5</td>\n",
       "      <td>8</td>\n",
       "      <td>1</td>\n",
       "      <td>705.0</td>\n",
       "      <td>700</td>\n",
       "      <td>917.0</td>\n",
       "      <td>915</td>\n",
       "      <td>US</td>\n",
       "      <td>560</td>\n",
       "      <td>...</td>\n",
       "      <td>6</td>\n",
       "      <td>9</td>\n",
       "      <td>0</td>\n",
       "      <td>NaN</td>\n",
       "      <td>0</td>\n",
       "      <td>0</td>\n",
       "      <td>0</td>\n",
       "      <td>0</td>\n",
       "      <td>0</td>\n",
       "      <td>0</td>\n",
       "    </tr>\n",
       "    <tr>\n",
       "      <th>Vol_1</th>\n",
       "      <td>2006</td>\n",
       "      <td>5</td>\n",
       "      <td>10</td>\n",
       "      <td>3</td>\n",
       "      <td>705.0</td>\n",
       "      <td>700</td>\n",
       "      <td>920.0</td>\n",
       "      <td>915</td>\n",
       "      <td>US</td>\n",
       "      <td>560</td>\n",
       "      <td>...</td>\n",
       "      <td>5</td>\n",
       "      <td>10</td>\n",
       "      <td>0</td>\n",
       "      <td>NaN</td>\n",
       "      <td>0</td>\n",
       "      <td>0</td>\n",
       "      <td>0</td>\n",
       "      <td>0</td>\n",
       "      <td>0</td>\n",
       "      <td>0</td>\n",
       "    </tr>\n",
       "    <tr>\n",
       "      <th>Vol_2</th>\n",
       "      <td>2006</td>\n",
       "      <td>5</td>\n",
       "      <td>12</td>\n",
       "      <td>5</td>\n",
       "      <td>700.0</td>\n",
       "      <td>700</td>\n",
       "      <td>922.0</td>\n",
       "      <td>915</td>\n",
       "      <td>US</td>\n",
       "      <td>560</td>\n",
       "      <td>...</td>\n",
       "      <td>8</td>\n",
       "      <td>11</td>\n",
       "      <td>0</td>\n",
       "      <td>NaN</td>\n",
       "      <td>0</td>\n",
       "      <td>0</td>\n",
       "      <td>0</td>\n",
       "      <td>0</td>\n",
       "      <td>0</td>\n",
       "      <td>0</td>\n",
       "    </tr>\n",
       "  </tbody>\n",
       "</table>\n",
       "<p>3 rows × 29 columns</p>\n",
       "</div>"
      ],
      "text/plain": [
       "       Year  Month  DayofMonth  DayOfWeek  DepTime  CRSDepTime  ArrTime  \\\n",
       "Vol_0  2006      5           8          1    705.0         700    917.0   \n",
       "Vol_1  2006      5          10          3    705.0         700    920.0   \n",
       "Vol_2  2006      5          12          5    700.0         700    922.0   \n",
       "\n",
       "       CRSArrTime UniqueCarrier  FlightNum        ...         TaxiIn  TaxiOut  \\\n",
       "Vol_0         915            US        560        ...              6        9   \n",
       "Vol_1         915            US        560        ...              5       10   \n",
       "Vol_2         915            US        560        ...              8       11   \n",
       "\n",
       "       Cancelled  CancellationCode  Diverted  CarrierDelay WeatherDelay  \\\n",
       "Vol_0          0               NaN         0             0            0   \n",
       "Vol_1          0               NaN         0             0            0   \n",
       "Vol_2          0               NaN         0             0            0   \n",
       "\n",
       "      NASDelay  SecurityDelay  LateAircraftDelay  \n",
       "Vol_0        0              0                  0  \n",
       "Vol_1        0              0                  0  \n",
       "Vol_2        0              0                  0  \n",
       "\n",
       "[3 rows x 29 columns]"
      ]
     },
     "execution_count": 6,
     "metadata": {},
     "output_type": "execute_result"
    }
   ],
   "source": [
    "df.iloc[[0, 1, 2]]"
   ]
  },
  {
   "cell_type": "markdown",
   "metadata": {},
   "source": [
    "### Exercice : extraire les 100 premières lignes dans un DataFrame, les 100 dernières dans un autre, et recoller les en un seul DataFrame (de 200 lignes)"
   ]
  },
  {
   "cell_type": "code",
   "execution_count": null,
   "metadata": {},
   "outputs": [],
   "source": []
  },
  {
   "cell_type": "code",
   "execution_count": null,
   "metadata": {},
   "outputs": [],
   "source": []
  },
  {
   "cell_type": "code",
   "execution_count": null,
   "metadata": {},
   "outputs": [],
   "source": []
  },
  {
   "cell_type": "markdown",
   "metadata": {},
   "source": [
    "# Accéder à un ensemble de lignes et colonnes"
   ]
  },
  {
   "cell_type": "markdown",
   "metadata": {},
   "source": [
    "### par leurs noms"
   ]
  },
  {
   "cell_type": "code",
   "execution_count": 7,
   "metadata": {},
   "outputs": [
    {
     "data": {
      "text/html": [
       "<div>\n",
       "<style scoped>\n",
       "    .dataframe tbody tr th:only-of-type {\n",
       "        vertical-align: middle;\n",
       "    }\n",
       "\n",
       "    .dataframe tbody tr th {\n",
       "        vertical-align: top;\n",
       "    }\n",
       "\n",
       "    .dataframe thead th {\n",
       "        text-align: right;\n",
       "    }\n",
       "</style>\n",
       "<table border=\"1\" class=\"dataframe\">\n",
       "  <thead>\n",
       "    <tr style=\"text-align: right;\">\n",
       "      <th></th>\n",
       "      <th>UniqueCarrier</th>\n",
       "      <th>Distance</th>\n",
       "    </tr>\n",
       "  </thead>\n",
       "  <tbody>\n",
       "    <tr>\n",
       "      <th>Vol_0</th>\n",
       "      <td>US</td>\n",
       "      <td>857</td>\n",
       "    </tr>\n",
       "    <tr>\n",
       "      <th>Vol_1</th>\n",
       "      <td>US</td>\n",
       "      <td>857</td>\n",
       "    </tr>\n",
       "  </tbody>\n",
       "</table>\n",
       "</div>"
      ],
      "text/plain": [
       "      UniqueCarrier  Distance\n",
       "Vol_0            US       857\n",
       "Vol_1            US       857"
      ]
     },
     "execution_count": 7,
     "metadata": {},
     "output_type": "execute_result"
    }
   ],
   "source": [
    "df.loc[['Vol_0', 'Vol_1'], ['UniqueCarrier', 'Distance']]"
   ]
  },
  {
   "cell_type": "markdown",
   "metadata": {},
   "source": [
    "### par leurs positions dans la liste"
   ]
  },
  {
   "cell_type": "code",
   "execution_count": 8,
   "metadata": {},
   "outputs": [
    {
     "data": {
      "text/html": [
       "<div>\n",
       "<style scoped>\n",
       "    .dataframe tbody tr th:only-of-type {\n",
       "        vertical-align: middle;\n",
       "    }\n",
       "\n",
       "    .dataframe tbody tr th {\n",
       "        vertical-align: top;\n",
       "    }\n",
       "\n",
       "    .dataframe thead th {\n",
       "        text-align: right;\n",
       "    }\n",
       "</style>\n",
       "<table border=\"1\" class=\"dataframe\">\n",
       "  <thead>\n",
       "    <tr style=\"text-align: right;\">\n",
       "      <th></th>\n",
       "      <th>ArrTime</th>\n",
       "      <th>Origin</th>\n",
       "    </tr>\n",
       "  </thead>\n",
       "  <tbody>\n",
       "    <tr>\n",
       "      <th>Vol_0</th>\n",
       "      <td>917.0</td>\n",
       "      <td>PBI</td>\n",
       "    </tr>\n",
       "    <tr>\n",
       "      <th>Vol_1</th>\n",
       "      <td>920.0</td>\n",
       "      <td>PBI</td>\n",
       "    </tr>\n",
       "  </tbody>\n",
       "</table>\n",
       "</div>"
      ],
      "text/plain": [
       "       ArrTime Origin\n",
       "Vol_0    917.0    PBI\n",
       "Vol_1    920.0    PBI"
      ]
     },
     "execution_count": 8,
     "metadata": {},
     "output_type": "execute_result"
    }
   ],
   "source": [
    "df.iloc[[0, 1], [6, 16]]"
   ]
  },
  {
   "cell_type": "markdown",
   "metadata": {},
   "source": [
    "# Extraction conditionnelle"
   ]
  },
  {
   "cell_type": "markdown",
   "metadata": {},
   "source": [
    "### exemple 1"
   ]
  },
  {
   "cell_type": "code",
   "execution_count": 9,
   "metadata": {},
   "outputs": [
    {
     "name": "stdout",
     "output_type": "stream",
     "text": [
      "            Year  Month  DayofMonth  DayOfWeek  DepTime  CRSDepTime  ArrTime  \\\n",
      "Vol_225980  2006      5           2          2    853.0         900   1156.0   \n",
      "Vol_225981  2006      5           4          4   1146.0         900   1444.0   \n",
      "Vol_225982  2006      5           6          6    853.0         900   1208.0   \n",
      "Vol_225983  2006      5           8          1    852.0         900   1144.0   \n",
      "Vol_225984  2006      5          10          3    852.0         900   1152.0   \n",
      "\n",
      "            CRSArrTime UniqueCarrier  FlightNum        ...         TaxiIn  \\\n",
      "Vol_225980        1201            AA          1        ...              7   \n",
      "Vol_225981        1201            AA          1        ...              3   \n",
      "Vol_225982        1201            AA          1        ...              9   \n",
      "Vol_225983        1201            AA          1        ...              8   \n",
      "Vol_225984        1201            AA          1        ...              5   \n",
      "\n",
      "            TaxiOut  Cancelled  CancellationCode  Diverted  CarrierDelay  \\\n",
      "Vol_225980       29          0               NaN         0             0   \n",
      "Vol_225981       13          0               NaN         0           163   \n",
      "Vol_225982       26          0               NaN         0             0   \n",
      "Vol_225983       23          0               NaN         0             0   \n",
      "Vol_225984       18          0               NaN         0             0   \n",
      "\n",
      "           WeatherDelay NASDelay  SecurityDelay  LateAircraftDelay  \n",
      "Vol_225980            0        0              0                  0  \n",
      "Vol_225981            0        0              0                  0  \n",
      "Vol_225982            0        0              0                  0  \n",
      "Vol_225983            0        0              0                  0  \n",
      "Vol_225984            0        0              0                  0  \n",
      "\n",
      "[5 rows x 29 columns]\n"
     ]
    }
   ],
   "source": [
    "extrait = df[df.UniqueCarrier == 'AA']\n",
    "print(extrait.head())"
   ]
  },
  {
   "cell_type": "code",
   "execution_count": 10,
   "metadata": {
    "collapsed": true
   },
   "outputs": [
    {
     "name": "stdout",
     "output_type": "stream",
     "text": [
      "(27652, 29)\n"
     ]
    }
   ],
   "source": [
    "print(extrait.shape)"
   ]
  },
  {
   "cell_type": "code",
   "execution_count": 11,
   "metadata": {
    "collapsed": true
   },
   "outputs": [
    {
     "name": "stdout",
     "output_type": "stream",
     "text": [
      "AA    27652\n",
      "Name: UniqueCarrier, dtype: int64\n"
     ]
    }
   ],
   "source": [
    "print(extrait.UniqueCarrier.value_counts())"
   ]
  },
  {
   "cell_type": "markdown",
   "metadata": {},
   "source": [
    "### exemple 2"
   ]
  },
  {
   "cell_type": "code",
   "execution_count": 12,
   "metadata": {
    "collapsed": true
   },
   "outputs": [
    {
     "name": "stdout",
     "output_type": "stream",
     "text": [
      "         Year  Month  DayofMonth  DayOfWeek  DepTime  CRSDepTime  ArrTime  \\\n",
      "Vol_9    2006      5          26          5    800.0         700   1017.0   \n",
      "Vol_19   2006      5          15          1   1710.0        1635   1919.0   \n",
      "Vol_26   2006      5          29          1   1653.0        1635   1909.0   \n",
      "Vol_41   2006      5           1          1   1222.0        1145   1432.0   \n",
      "Vol_102  2006      5           7          7   2156.0        2140   2313.0   \n",
      "\n",
      "         CRSArrTime UniqueCarrier  FlightNum        ...         TaxiIn  \\\n",
      "Vol_9           915            US        560        ...              9   \n",
      "Vol_19         1843            US        566        ...              5   \n",
      "Vol_26         1843            US        566        ...              5   \n",
      "Vol_41         1402            US        696        ...              5   \n",
      "Vol_102        2256            US        790        ...              3   \n",
      "\n",
      "         TaxiOut  Cancelled  CancellationCode  Diverted  CarrierDelay  \\\n",
      "Vol_9         11          0               NaN         0            60   \n",
      "Vol_19        11          0               NaN         0            28   \n",
      "Vol_26        12          0               NaN         0            18   \n",
      "Vol_41         9          0               NaN         0            11   \n",
      "Vol_102       20          0               NaN         0            16   \n",
      "\n",
      "        WeatherDelay NASDelay  SecurityDelay  LateAircraftDelay  \n",
      "Vol_9              0        2              0                  0  \n",
      "Vol_19             0        1              0                  7  \n",
      "Vol_26             0        8              0                  0  \n",
      "Vol_41             0        0              0                 19  \n",
      "Vol_102            0        1              0                  0  \n",
      "\n",
      "[5 rows x 29 columns]\n"
     ]
    }
   ],
   "source": [
    "extrait = df[df.CarrierDelay > 10]\n",
    "print(extrait.head())"
   ]
  },
  {
   "cell_type": "code",
   "execution_count": 13,
   "metadata": {
    "collapsed": true
   },
   "outputs": [
    {
     "name": "stdout",
     "output_type": "stream",
     "text": [
      "(18551, 29)\n"
     ]
    }
   ],
   "source": [
    "print(extrait.shape)"
   ]
  },
  {
   "cell_type": "code",
   "execution_count": 14,
   "metadata": {
    "collapsed": true
   },
   "outputs": [
    {
     "name": "stdout",
     "output_type": "stream",
     "text": [
      "count    18551.000000\n",
      "mean        44.181769\n",
      "std         54.353875\n",
      "min         11.000000\n",
      "25%         17.000000\n",
      "50%         27.000000\n",
      "75%         50.000000\n",
      "max       1064.000000\n",
      "Name: CarrierDelay, dtype: float64\n"
     ]
    }
   ],
   "source": [
    "print(extrait.CarrierDelay.describe())"
   ]
  },
  {
   "cell_type": "markdown",
   "metadata": {},
   "source": [
    "### Exercice : chercher comment combiner les 2 conditions précedentes"
   ]
  },
  {
   "cell_type": "code",
   "execution_count": 16,
   "metadata": {},
   "outputs": [
    {
     "name": "stdout",
     "output_type": "stream",
     "text": [
      "            Year  Month  DayofMonth  DayOfWeek  DepTime  CRSDepTime  ArrTime  \\\n",
      "Vol_225981  2006      5           4          4   1146.0         900   1444.0   \n",
      "Vol_225995  2006      5           2          2    947.0         930   1809.0   \n",
      "Vol_226003  2006      5          18          4    950.0         930   1830.0   \n",
      "Vol_226005  2006      5          22          1   1026.0         930   1832.0   \n",
      "Vol_226010  2006      5           1          1   1240.0        1200   1514.0   \n",
      "\n",
      "            CRSArrTime UniqueCarrier  FlightNum        ...         TaxiIn  \\\n",
      "Vol_225981        1201            AA          1        ...              3   \n",
      "Vol_225995        1752            AA          2        ...              6   \n",
      "Vol_226003        1752            AA          2        ...             17   \n",
      "Vol_226005        1752            AA          2        ...              7   \n",
      "Vol_226010        1453            AA          3        ...              4   \n",
      "\n",
      "            TaxiOut  Cancelled  CancellationCode  Diverted  CarrierDelay  \\\n",
      "Vol_225981       13          0               NaN         0           163   \n",
      "Vol_225995       23          0               NaN         0            17   \n",
      "Vol_226003       11          0               NaN         0            20   \n",
      "Vol_226005       20          0               NaN         0            40   \n",
      "Vol_226010       17          0               NaN         0            21   \n",
      "\n",
      "           WeatherDelay NASDelay  SecurityDelay  LateAircraftDelay  \n",
      "Vol_225981            0        0              0                  0  \n",
      "Vol_225995            0        0              0                  0  \n",
      "Vol_226003            0       18              0                  0  \n",
      "Vol_226005            0        0              0                  0  \n",
      "Vol_226010            0        0              0                  0  \n",
      "\n",
      "[5 rows x 29 columns]\n"
     ]
    }
   ],
   "source": [
    "extrait = df[(df.CarrierDelay > 10) & (df.UniqueCarrier == 'AA')]\n",
    "print(extrait.head())"
   ]
  },
  {
   "cell_type": "code",
   "execution_count": null,
   "metadata": {},
   "outputs": [],
   "source": []
  },
  {
   "cell_type": "markdown",
   "metadata": {},
   "source": [
    "### Exercice : extraire le DataFrame des vols ayant parcouru une distance supérieure à la distance moyenne"
   ]
  },
  {
   "cell_type": "code",
   "execution_count": 28,
   "metadata": {},
   "outputs": [
    {
     "name": "stdout",
     "output_type": "stream",
     "text": [
      "       Year  Month  DayofMonth  DayOfWeek  DepTime  CRSDepTime  ArrTime  \\\n",
      "Vol_0  2006      5           8          1    705.0         700    917.0   \n",
      "Vol_1  2006      5          10          3    705.0         700    920.0   \n",
      "Vol_2  2006      5          12          5    700.0         700    922.0   \n",
      "Vol_3  2006      5          14          7    700.0         700    910.0   \n",
      "Vol_4  2006      5          16          2    724.0         700    921.0   \n",
      "\n",
      "       CRSArrTime UniqueCarrier  FlightNum        ...         TaxiIn  TaxiOut  \\\n",
      "Vol_0         915            US        560        ...              6        9   \n",
      "Vol_1         915            US        560        ...              5       10   \n",
      "Vol_2         915            US        560        ...              8       11   \n",
      "Vol_3         915            US        560        ...              5        5   \n",
      "Vol_4         915            US        560        ...              3        9   \n",
      "\n",
      "       Cancelled  CancellationCode  Diverted  CarrierDelay WeatherDelay  \\\n",
      "Vol_0          0               NaN         0             0            0   \n",
      "Vol_1          0               NaN         0             0            0   \n",
      "Vol_2          0               NaN         0             0            0   \n",
      "Vol_3          0               NaN         0             0            0   \n",
      "Vol_4          0               NaN         0             0            0   \n",
      "\n",
      "      NASDelay  SecurityDelay  LateAircraftDelay  \n",
      "Vol_0        0              0                  0  \n",
      "Vol_1        0              0                  0  \n",
      "Vol_2        0              0                  0  \n",
      "Vol_3        0              0                  0  \n",
      "Vol_4        0              0                  0  \n",
      "\n",
      "[5 rows x 29 columns]\n"
     ]
    }
   ],
   "source": [
    "extrait = df[(df.Distance > df.Distance.mean())]\n",
    "print(extrait.head())"
   ]
  },
  {
   "cell_type": "markdown",
   "metadata": {},
   "source": [
    "# Extraire les vols avec une distance comprise entre mean(dist)-3ecartype<value<dist"
   ]
  },
  {
   "cell_type": "code",
   "execution_count": 29,
   "metadata": {},
   "outputs": [
    {
     "name": "stdout",
     "output_type": "stream",
     "text": [
      "       Year  Month  DayofMonth  DayOfWeek  DepTime  CRSDepTime  ArrTime  \\\n",
      "Vol_0  2006      5           8          1    705.0         700    917.0   \n",
      "Vol_1  2006      5          10          3    705.0         700    920.0   \n",
      "Vol_2  2006      5          12          5    700.0         700    922.0   \n",
      "Vol_3  2006      5          14          7    700.0         700    910.0   \n",
      "Vol_4  2006      5          16          2    724.0         700    921.0   \n",
      "\n",
      "       CRSArrTime UniqueCarrier  FlightNum        ...         TaxiIn  TaxiOut  \\\n",
      "Vol_0         915            US        560        ...              6        9   \n",
      "Vol_1         915            US        560        ...              5       10   \n",
      "Vol_2         915            US        560        ...              8       11   \n",
      "Vol_3         915            US        560        ...              5        5   \n",
      "Vol_4         915            US        560        ...              3        9   \n",
      "\n",
      "       Cancelled  CancellationCode  Diverted  CarrierDelay WeatherDelay  \\\n",
      "Vol_0          0               NaN         0             0            0   \n",
      "Vol_1          0               NaN         0             0            0   \n",
      "Vol_2          0               NaN         0             0            0   \n",
      "Vol_3          0               NaN         0             0            0   \n",
      "Vol_4          0               NaN         0             0            0   \n",
      "\n",
      "      NASDelay  SecurityDelay  LateAircraftDelay  \n",
      "Vol_0        0              0                  0  \n",
      "Vol_1        0              0                  0  \n",
      "Vol_2        0              0                  0  \n",
      "Vol_3        0              0                  0  \n",
      "Vol_4        0              0                  0  \n",
      "\n",
      "[5 rows x 29 columns]\n"
     ]
    }
   ],
   "source": [
    "extrait = df[((df.Distance.mean()-3*df.Distance.std())<df.Distance)&(df.Distance < df.Distance.mean()+3*df.Distance.std())]\n",
    "print(extrait.head())"
   ]
  },
  {
   "cell_type": "code",
   "execution_count": 31,
   "metadata": {},
   "outputs": [
    {
     "name": "stderr",
     "output_type": "stream",
     "text": [
      "C:\\Users\\amine\\Anaconda3\\lib\\site-packages\\matplotlib\\axes\\_axes.py:6462: UserWarning: The 'normed' kwarg is deprecated, and has been replaced by the 'density' kwarg.\n",
      "  warnings.warn(\"The 'normed' kwarg is deprecated, and has been \"\n"
     ]
    },
    {
     "data": {
      "text/plain": [
       "<matplotlib.axes._subplots.AxesSubplot at 0x2f5ed61eda0>"
      ]
     },
     "execution_count": 31,
     "metadata": {},
     "output_type": "execute_result"
    },
    {
     "data": {
      "image/png": "[encoded data removed]",
      "text/plain": [
       "<Figure size 432x288 with 1 Axes>"
      ]
     },
     "metadata": {},
     "output_type": "display_data"
    }
   ],
   "source": [
    "import seaborn as sns\n",
    "sns.distplot(df.Distance)"
   ]
  },
  {
   "cell_type": "code",
   "execution_count": null,
   "metadata": {},
   "outputs": [],
   "source": []
  }
 ],
 "metadata": {
  "kernelspec": {
   "display_name": "Python 3",
   "language": "python",
   "name": "python3"
  },
  "language_info": {
   "codemirror_mode": {
    "name": "ipython",
    "version": 3
   },
   "file_extension": ".py",
   "mimetype": "text/x-python",
   "name": "python",
   "nbconvert_exporter": "python",
   "pygments_lexer": "ipython3",
   "version": "3.6.5"
  }
 },
 "nbformat": 4,
 "nbformat_minor": 2
}
