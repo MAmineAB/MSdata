{
 "cells": [
  {
   "cell_type": "code",
   "execution_count": 1,
   "metadata": {},
   "outputs": [],
   "source": [
    "import numpy as np\n",
    "import pickle \n"
   ]
  },
  {
   "cell_type": "code",
   "execution_count": 2,
   "metadata": {},
   "outputs": [],
   "source": [
    "def unpickle(file):\n",
    "    with open(file,'rb') as fo:\n",
    "        dict= pickle.load(fo, encoding='bytes')\n",
    "    return dict\n",
    "\n",
    "def save_obj(obj,name):\n",
    "    with open('export/'+name+'.pkl','wb')as f:\n",
    "        pickle.dumb(obj,f,pickle.HIGHEST_PROTOCOL)"
   ]
  },
  {
   "cell_type": "markdown",
   "metadata": {},
   "source": [
    "Prepare Data"
   ]
  },
  {
   "cell_type": "code",
   "execution_count": 3,
   "metadata": {},
   "outputs": [],
   "source": [
    "featuresFile= 'Sigma_features.pkl'\n",
    "labelFile='Sigma_labels.pkl'"
   ]
  },
  {
   "cell_type": "code",
   "execution_count": 4,
   "metadata": {},
   "outputs": [],
   "source": [
    "features=unpickle(featuresFile)"
   ]
  },
  {
   "cell_type": "code",
   "execution_count": 5,
   "metadata": {},
   "outputs": [],
   "source": [
    "label=unpickle(labelFile)"
   ]
  },
  {
   "cell_type": "code",
   "execution_count": 6,
   "metadata": {},
   "outputs": [
    {
     "data": {
      "text/plain": [
       "(238,)"
      ]
     },
     "execution_count": 6,
     "metadata": {},
     "output_type": "execute_result"
    }
   ],
   "source": [
    "np.shape(label)"
   ]
  },
  {
   "cell_type": "code",
   "execution_count": 7,
   "metadata": {},
   "outputs": [
    {
     "data": {
      "text/plain": [
       "array([[625.0, 1.0, 64, ..., 1, 0, 0.0],\n",
       "       [625.0, 1.0, 64, ..., 1, 0, 0.0],\n",
       "       [954.0, 1.0, 64, ..., 0, 1, 0.0],\n",
       "       ...,\n",
       "       [1406.0, 8.0, 2048, ..., 0, 1, 271.0],\n",
       "       [1582.0, 11.0, 352, ..., 0, 1, 113.0],\n",
       "       [1423.0, 8.0, 2048, ..., 0, 1, 188.0]], dtype=object)"
      ]
     },
     "execution_count": 7,
     "metadata": {},
     "output_type": "execute_result"
    }
   ],
   "source": [
    "features"
   ]
  },
  {
   "cell_type": "code",
   "execution_count": 8,
   "metadata": {},
   "outputs": [
    {
     "data": {
      "text/plain": [
       "(238, 32)"
      ]
     },
     "execution_count": 8,
     "metadata": {},
     "output_type": "execute_result"
    }
   ],
   "source": [
    "np.shape(features)"
   ]
  },
  {
   "cell_type": "code",
   "execution_count": 9,
   "metadata": {},
   "outputs": [],
   "source": [
    "One=np.ones((label.size,1))"
   ]
  },
  {
   "cell_type": "code",
   "execution_count": 10,
   "metadata": {},
   "outputs": [],
   "source": [
    "features=np.hstack([features,One])"
   ]
  },
  {
   "cell_type": "code",
   "execution_count": 11,
   "metadata": {
    "scrolled": true
   },
   "outputs": [
    {
     "data": {
      "text/plain": [
       "array([[625.0, 1.0, 64, ..., 0, 0.0, 1.0],\n",
       "       [625.0, 1.0, 64, ..., 0, 0.0, 1.0],\n",
       "       [954.0, 1.0, 64, ..., 1, 0.0, 1.0],\n",
       "       ...,\n",
       "       [1406.0, 8.0, 2048, ..., 1, 271.0, 1.0],\n",
       "       [1582.0, 11.0, 352, ..., 1, 113.0, 1.0],\n",
       "       [1423.0, 8.0, 2048, ..., 1, 188.0, 1.0]], dtype=object)"
      ]
     },
     "execution_count": 11,
     "metadata": {},
     "output_type": "execute_result"
    }
   ],
   "source": [
    "features"
   ]
  },
  {
   "cell_type": "code",
   "execution_count": 12,
   "metadata": {},
   "outputs": [],
   "source": [
    "L=features.shape[0] #Nombre de ligne m\n",
    "C=features.shape[1] #Nombre de colonne n\n"
   ]
  },
  {
   "cell_type": "markdown",
   "metadata": {},
   "source": [
    "Definir le modéle ( regression linéaire )"
   ]
  },
  {
   "cell_type": "code",
   "execution_count": 13,
   "metadata": {},
   "outputs": [],
   "source": [
    "#créer un vecteur de parametres aléat\n",
    "teta=np.random.random((C,1))"
   ]
  },
  {
   "cell_type": "code",
   "execution_count": 14,
   "metadata": {},
   "outputs": [],
   "source": [
    "#Définition du modéle \n",
    "def model(a,b):\n",
    "    return np.dot(a,b)"
   ]
  },
  {
   "cell_type": "code",
   "execution_count": 15,
   "metadata": {},
   "outputs": [],
   "source": [
    "mod=model(features,teta)"
   ]
  },
  {
   "cell_type": "markdown",
   "metadata": {},
   "source": [
    "Descente de gradient"
   ]
  },
  {
   "cell_type": "code",
   "execution_count": 16,
   "metadata": {},
   "outputs": [],
   "source": [
    "#fonction de cout avec a = mod (hyp) et b = label (reel)\n",
    "def cout(a,b):\n",
    "    dif=(a-b)**2\n",
    "    y=(1/(2*b.shape[0]))*(np.sum(dif))\n",
    "    return y"
   ]
  },
  {
   "cell_type": "code",
   "execution_count": 17,
   "metadata": {},
   "outputs": [
    {
     "data": {
      "text/plain": [
       "304949937.78194463"
      ]
     },
     "execution_count": 17,
     "metadata": {},
     "output_type": "execute_result"
    }
   ],
   "source": [
    "cout(mod,label)"
   ]
  },
  {
   "cell_type": "code",
   "execution_count": 18,
   "metadata": {},
   "outputs": [],
   "source": [
    "# derivée de cout\n",
    "def dcout(a,b,c):\n",
    "    y=(1/b.shape[0])*np.dot(c.T,(a-b.reshape((-1,1))))\n",
    "    return y"
   ]
  },
  {
   "cell_type": "code",
   "execution_count": 19,
   "metadata": {},
   "outputs": [
    {
     "data": {
      "text/plain": [
       "array([[403829557.11626554],\n",
       "       [1955451.3935564056],\n",
       "       [112910910.0377683],\n",
       "       [1549877101.0810316],\n",
       "       [640995703.0899292],\n",
       "       [212797.42527743583],\n",
       "       [50392888.61331001],\n",
       "       [4223.460287299169],\n",
       "       [62443.5894384583],\n",
       "       [62773.470063001034],\n",
       "       [20266.48678152042],\n",
       "       [70760.70400152395],\n",
       "       [29843.0254959718],\n",
       "       [669.9446910983938],\n",
       "       [26424.023044488546],\n",
       "       [78265.63954260388],\n",
       "       [199139.06426075767],\n",
       "       [61440.034118997595],\n",
       "       [215964.66968436397],\n",
       "       [4758.850040481672],\n",
       "       [1850.3487581829224],\n",
       "       [270795.50500469696],\n",
       "       [3222.122103531669],\n",
       "       [493.8916138587862],\n",
       "       [143478.1591197278],\n",
       "       [1240.7203203562615],\n",
       "       [640.1447087068661],\n",
       "       [102936.84974819997],\n",
       "       [25392.816188980265],\n",
       "       [3486.336946557577],\n",
       "       [273918.366856804],\n",
       "       [35956422.202224396],\n",
       "       [277404.7038033616]], dtype=object)"
      ]
     },
     "execution_count": 19,
     "metadata": {},
     "output_type": "execute_result"
    }
   ],
   "source": [
    "np.dot(features.T, (mod - label.reshape((-1,1))))"
   ]
  },
  {
   "cell_type": "code",
   "execution_count": 20,
   "metadata": {
    "scrolled": true
   },
   "outputs": [],
   "source": [
    "dcout=dcout(mod,label,features)"
   ]
  },
  {
   "cell_type": "code",
   "execution_count": 21,
   "metadata": {},
   "outputs": [],
   "source": [
    "# gradient descent : mise a jour des parametres , definir un alpha  ( fonction de teta)\n",
    "alpha = 0.0000000003\n",
    "def modif(a):\n",
    "    a=a-alpha*(dcout)\n",
    "    return a"
   ]
  },
  {
   "cell_type": "code",
   "execution_count": 22,
   "metadata": {},
   "outputs": [
    {
     "data": {
      "text/plain": [
       "array([[0.0838533663096177],\n",
       "       [0.9566273802893925],\n",
       "       [0.9471236896110844],\n",
       "       [0.206285994975621],\n",
       "       [0.19797116679472807],\n",
       "       [0.6429957137783192],\n",
       "       [0.8686796761454038],\n",
       "       [0.47036185378786405],\n",
       "       [0.8856356853086048],\n",
       "       [0.16520918948847577],\n",
       "       [0.21705848411170173],\n",
       "       [0.4218264364960179],\n",
       "       [0.14512286214384523],\n",
       "       [0.9438844757317073],\n",
       "       [0.4993568520722265],\n",
       "       [0.5589464653658932],\n",
       "       [0.6899417289114941],\n",
       "       [0.11562115311963286],\n",
       "       [0.2756663904604569],\n",
       "       [0.5523605758191956],\n",
       "       [0.0683228400661973],\n",
       "       [0.08292725991280046],\n",
       "       [0.5979368811245568],\n",
       "       [0.3109319302573228],\n",
       "       [0.28999787063846133],\n",
       "       [0.9587321622826869],\n",
       "       [0.15469377729204126],\n",
       "       [0.17300531780968512],\n",
       "       [0.69289317189709],\n",
       "       [0.4106615732205353],\n",
       "       [0.3374686568391841],\n",
       "       [0.07230010598688082],\n",
       "       [0.32309953925888285]], dtype=object)"
      ]
     },
     "execution_count": 22,
     "metadata": {},
     "output_type": "execute_result"
    }
   ],
   "source": [
    "teta=modif(teta)\n",
    "teta"
   ]
  },
  {
   "cell_type": "code",
   "execution_count": 23,
   "metadata": {},
   "outputs": [],
   "source": [
    "#fct test evolution , vrai = continuer la descente de gradient\n",
    "#If fct de cout diminue de moins de epsilon , on stoppe \n",
    "epsilon =1e-5\n",
    "\n",
    "def test(a,b):\n",
    "    return np.abs(a-b)/a>epsilon\n",
    " "
   ]
  },
  {
   "cell_type": "code",
   "execution_count": 24,
   "metadata": {},
   "outputs": [],
   "source": [
    "#fonction init pour parametres dont on a besoin pour la desc de grad\n",
    "\n",
    "    "
   ]
  },
  {
   "cell_type": "markdown",
   "metadata": {},
   "source": [
    "On combine tous"
   ]
  },
  {
   "cell_type": "code",
   "execution_count": null,
   "metadata": {},
   "outputs": [],
   "source": [
    "\n",
    "coutf=10\n",
    "couti=4\n",
    "iteration=0\n",
    "while test(coutf,couti):\n",
    "    couti=cout(mod,label)\n",
    "    teta=modif(teta)\n",
    "    iteration=iteration+1\n",
    "    mod=model(features,teta)\n",
    "    coutf=cout(mod,label)\n",
    "print('il faut faire',iteration,'iterations')\n",
    "print(teta)"
   ]
  },
  {
   "cell_type": "code",
   "execution_count": null,
   "metadata": {},
   "outputs": [],
   "source": [
    "coutf"
   ]
  },
  {
   "cell_type": "code",
   "execution_count": null,
   "metadata": {},
   "outputs": [],
   "source": []
  }
 ],
 "metadata": {
  "kernelspec": {
   "display_name": "Python 3",
   "language": "python",
   "name": "python3"
  },
  "language_info": {
   "codemirror_mode": {
    "name": "ipython",
    "version": 3
   },
   "file_extension": ".py",
   "mimetype": "text/x-python",
   "name": "python",
   "nbconvert_exporter": "python",
   "pygments_lexer": "ipython3",
   "version": "3.6.5"
  }
 },
 "nbformat": 4,
 "nbformat_minor": 2
}
