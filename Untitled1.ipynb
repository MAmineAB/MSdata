{
 "cells": [
  {
   "cell_type": "code",
   "execution_count": 2,
   "metadata": {},
   "outputs": [
    {
     "name": "stdout",
     "output_type": "stream",
     "text": [
      "0.3999999999999999 2.2799999999999994 8.47\n",
      "-0.040000000000000036 0.9248 1.3551999999999995\n",
      "-0.216 0.707968 0.2168319999999999\n",
      "-0.2864 0.67327488 0.03469312000000002\n",
      "-0.31456 0.6677239808 0.00555089920000007\n",
      "-0.32582400000000006 0.666835836928 0.0008881438719999801\n",
      "-0.33032959999999995 0.66669373390848 0.00014210301952000126\n",
      "-0.3321318399999999 0.6666709974253568 2.2736483123120266e-05\n"
     ]
    },
    {
     "data": {
      "text/plain": [
       "<Figure size 640x480 with 1 Axes>"
      ]
     },
     "metadata": {},
     "output_type": "display_data"
    }
   ],
   "source": [
    "from scipy import misc\n",
    "\n",
    "import matplotlib.pyplot as plt\n",
    "import numpy as np\n",
    "\n",
    "#----------------------------------------------------------------------------------------#\n",
    "# Function Definition\n",
    "\n",
    "def fonction(x):\n",
    "    return 3*x*x+2*x+1\n",
    "\n",
    "#----------------------------------------------------------------------------------------#\n",
    "# Plot function\n",
    "\n",
    "x = np.arange(-2.0, 2.0, 0.01)\n",
    "y = fonction(x)\n",
    "\n",
    "plt.plot(x, y,'r-')\n",
    "#plt.show()\n",
    "\n",
    "#----------------------------------------------------------------------------------------#\n",
    "# Gradient Descent\n"
   ]
  },
  {
   "cell_type": "code",
   "execution_count": 3,
   "metadata": {},
   "outputs": [
    {
     "name": "stdout",
     "output_type": "stream",
     "text": [
      "0.3999999999999999 2.2799999999999994 8.47\n",
      "-0.040000000000000036 0.9248 1.3551999999999995\n",
      "-0.216 0.707968 0.2168319999999999\n",
      "-0.2864 0.67327488 0.03469312000000002\n",
      "-0.31456 0.6677239808 0.00555089920000007\n",
      "-0.32582400000000006 0.666835836928 0.0008881438719999801\n",
      "-0.33032959999999995 0.66669373390848 0.00014210301952000126\n",
      "-0.3321318399999999 0.6666709974253568 2.2736483123120266e-05\n"
     ]
    },
    {
     "data": {
      "image/png": "[encoded data removed]",
      "text/plain": [
       "<Figure size 432x288 with 1 Axes>"
      ]
     },
     "metadata": {},
     "output_type": "display_data"
    }
   ],
   "source": [
    "\n",
    "alpha = 0.1 # learning rate\n",
    "nb_max_iter = 100 # Nb max d'iteration\n",
    "eps = 0.0001 # stop condition\n",
    "\n",
    "x0 = 1.5 # start point\n",
    "y0 = fonction(x0)\n",
    "plt.scatter(x0, fonction(x0))\n",
    "\n",
    "cond = eps + 10.0 # start with cond greater than eps (assumption)\n",
    "nb_iter = 0 \n",
    "tmp_y = y0\n",
    "while cond > eps and nb_iter < nb_max_iter:\n",
    "    x0 = x0 - alpha * misc.derivative(fonction, x0)\n",
    "    y0 = fonction(x0)\n",
    "    nb_iter = nb_iter + 1\n",
    "    cond = abs( tmp_y - y0 )\n",
    "    tmp_y = y0\n",
    "    print (x0,y0,cond)\n",
    "    plt.scatter(x0, y0)\n",
    "\n",
    "plt.title(\"Gradient Descent Python (1d test)\")\n",
    "plt.grid()\n",
    "\n",
    "plt.savefig(\"gradient_descent_1d_python.png\", bbox_inches='tight')\n",
    "plt.show()"
   ]
  },
  {
   "cell_type": "code",
   "execution_count": null,
   "metadata": {},
   "outputs": [],
   "source": []
  }
 ],
 "metadata": {
  "kernelspec": {
   "display_name": "Python 3",
   "language": "python",
   "name": "python3"
  },
  "language_info": {
   "codemirror_mode": {
    "name": "ipython",
    "version": 3
   },
   "file_extension": ".py",
   "mimetype": "text/x-python",
   "name": "python",
   "nbconvert_exporter": "python",
   "pygments_lexer": "ipython3",
   "version": "3.6.5"
  }
 },
 "nbformat": 4,
 "nbformat_minor": 2
}
